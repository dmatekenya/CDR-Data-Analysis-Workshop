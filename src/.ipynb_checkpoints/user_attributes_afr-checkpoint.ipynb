{
 "cells": [
  {
   "cell_type": "markdown",
   "metadata": {},
   "source": [
    "# User Attributes\n",
    "In this notebook, we compute the following indicators:\n",
    "- **Trips**: the total number of trips between two regions.\n",
    "- **outflows**: outgoing trips from a region.\n",
    "- **inflows**: Number of trips into a region.\n",
    "\n",
    "The regions for the ODs is set to *administrative level 4* while the temporal unit is *day*. \n",
    "\n",
    "## Methodology Description\n",
    "The basis of the OD creation methodology is from this paper:\n",
    "\n",
    "`\n",
    "Calabrese, Francesco, et al. \"Estimating Origin-Destination flows using opportunistically collected mobile phone location data from one million users in Boston Metropolitan Area.\" IEEE Pervasive Computing 10.4 (2011): 36-44.\n",
    "`\n",
    "\n",
    "And its explained below:\n",
    "\n",
    "1. Instead of using absolute locations, I cluster to a 1km radius. The rationale for this is to counter the location errors which comes with the localisation. The 1 Km here is a parameter which can be changed. \n",
    "2. Assign stay time to each cluster so that we can classify the clusters as either *stops* or *OD*. The threshold used for classifying as a stop is 30 minutes Thus, if a user stayed only 30 mniutes or less at a location, we consider it as a stop. Again, this is a parameter which can be changed.\n",
    "3. Discard the stop points and keep only the stay clusters. \n",
    "4. Detect trips for each user\n",
    "4. Aggregate trips with same OD for all users"
   ]
  },
  {
   "cell_type": "code",
   "execution_count": 2,
   "metadata": {},
   "outputs": [
    {
     "data": {
      "text/html": [
       "<style scoped>\n",
       "  .ansiout {\n",
       "    display: block;\n",
       "    unicode-bidi: embed;\n",
       "    white-space: pre-wrap;\n",
       "    word-wrap: break-word;\n",
       "    word-break: break-all;\n",
       "    font-family: \"Source Code Pro\", \"Menlo\", monospace;;\n",
       "    font-size: 13px;\n",
       "    color: #555;\n",
       "    margin-left: 4px;\n",
       "    line-height: 19px;\n",
       "  }\n",
       "</style>\n",
       "<div class=\"ansiout\"></div>"
      ]
     },
     "metadata": {},
     "output_type": "display_data"
    }
   ],
   "source": [
    "import os\n",
    "from functools import wraps\n",
    "from datetime import datetime\n",
    "import time\n",
    "import pandas as pd\n",
    "import numpy as np\n",
    "from pyspark.sql.types import Row\n",
    "from pyspark.sql import SparkSession\n",
    "from pyspark.sql.types import *\n",
    "from pyspark.sql.functions import collect_set, from_unixtime, unix_timestamp, col, udf, datediff, pandas_udf, PandasUDFType,lit\n",
    "from cdr_data_utils import data_utils as ut\n",
    "from cdr_data_utils import data_processor as dp"
   ]
  },
  {
   "cell_type": "markdown",
   "metadata": {},
   "source": [
    "# Mount Folders"
   ]
  },
  {
   "cell_type": "code",
   "execution_count": 5,
   "metadata": {},
   "outputs": [],
   "source": [
    "# mount folder for hashed data\n",
    "mount_folder_from_azure_blob(storage_acc_name=STORAGE_ACCOUNT_NAME, container_name=\"africell-four-months-subset\", \n",
    "                             dirname=\"\",mnt_name=\"afr_sub\", secret_key=SECRET_KEY, access_key=ACCESS_KEY)\n",
    "\n",
    "# Mount folder for sample-data just for loc file in there\n",
    "mount_folder_from_azure_blob(storage_acc_name=STORAGE_ACCOUNT_NAME, container_name=\"sample-data\", \n",
    "                             dirname=\"\",mnt_name=\"sample\", secret_key=SECRET_KEY, access_key=ACCESS_KEY)\n",
    "\n",
    "# just check the mounted folders\n",
    "display(dbutils.fs.ls(\"/mnt/afr_sub/\"))\n",
    "display(dbutils.fs.ls(\"/mnt/sample/\"))"
   ]
  },
  {
   "cell_type": "code",
   "execution_count": 6,
   "metadata": {},
   "outputs": [
    {
     "data": {
      "text/html": [
       "<style scoped>\n",
       "  .ansiout {\n",
       "    display: block;\n",
       "    unicode-bidi: embed;\n",
       "    white-space: pre-wrap;\n",
       "    word-wrap: break-word;\n",
       "    word-break: break-all;\n",
       "    font-family: \"Source Code Pro\", \"Menlo\", monospace;;\n",
       "    font-size: 13px;\n",
       "    color: #555;\n",
       "    margin-left: 4px;\n",
       "    line-height: 19px;\n",
       "  }\n",
       "</style>\n",
       "<div class=\"ansiout\"></div>"
      ]
     },
     "metadata": {},
     "output_type": "display_data"
    }
   ],
   "source": [
    "def mount_folder_from_azure_blob(storage_acc_name=None, container_name=None, \n",
    "                                 dirname=None, mnt_name=None, access_key=None, secret_key=None):\n",
    "  \n",
    "  \"\"\"\n",
    "  Utility function to mount a folder from Azure Blob storage if its not mounted\n",
    "  \"\"\"\n",
    "  # Check if folder is arleady mounted\n",
    "  mounted_folders = dbutils.fs.mounts()\n",
    "  for m in mounted_folders:\n",
    "    s = m.source\n",
    "    if container_name in s:\n",
    "      print(\"Arleady Mounted\")\n",
    "      return\n",
    "  \n",
    "  # Mount folder if not mounted\n",
    "  configs = {access_key: secret_key}\n",
    "  result = dbutils.fs.mount(\n",
    "              source = \"wasbs://{}@{}.blob.core.windows.net/{}\".format(container_name, storage_acc_name, dirname),\n",
    "              mount_point = \"/mnt/{}\".format(mnt_name),\n",
    "              extra_configs = configs)\n",
    "  \n",
    "  if result:\n",
    "    print(\"Successfully mounted folder\")"
   ]
  },
  {
   "cell_type": "code",
   "execution_count": 7,
   "metadata": {},
   "outputs": [
    {
     "data": {
      "text/html": [
       "<style scoped>\n",
       "  .ansiout {\n",
       "    display: block;\n",
       "    unicode-bidi: embed;\n",
       "    white-space: pre-wrap;\n",
       "    word-wrap: break-word;\n",
       "    word-break: break-all;\n",
       "    font-family: \"Source Code Pro\", \"Menlo\", monospace;;\n",
       "    font-size: 13px;\n",
       "    color: #555;\n",
       "    margin-left: 4px;\n",
       "    line-height: 19px;\n",
       "  }\n",
       "</style>\n",
       "<div class=\"ansiout\"></div>"
      ]
     },
     "metadata": {},
     "output_type": "display_data"
    }
   ],
   "source": [
    "# Parameters for computing user attributes\n",
    "home_hrs = [20, 21, 22, 23] + [i for i in range(0, 7)]\n",
    "transit_hrs = [7, 8, 19]\n",
    "work_hrs = [i for i in range(9, 19)]\n",
    "check_hrs = sorted(home_hrs + transit_hrs + work_hrs)\n",
    "assert check_hrs == [i for i in range(0, 24)]\n",
    "\n",
    "USER_ID = 'phonenumber'\n",
    "misc_processing_params = {'distance_threshold': 2,\n",
    "                              'datetime_col': 'datetime2',\n",
    "                              'home_hrs': home_hrs, 'work_hrs': work_hrs,\n",
    "                              'transit_hrs': transit_hrs,\n",
    "                              'excluded_days_for_home_work': ['Sunday', 'Saturday'],\n",
    "                              'y': 'lat', 'x': 'lon'}                         \n",
    "\n",
    "# Define schema for output DF-this has to be hardcoded and the order should be same as order in DF\n",
    "user_att_schema = StructType([StructField('avg_locs_day', DoubleType()), StructField('avg_num_trps',DoubleType()),\n",
    "            StructField('home_x',  DoubleType()), StructField('home_y',  DoubleType()),StructField('avg_trp_dist',  DoubleType()),\n",
    "            StructField('work_x',  DoubleType()), StructField('work_y',  DoubleType()),\n",
    "            StructField('avg_gyration', DoubleType()), StructField('median_gyration', DoubleType()),\n",
    "            StructField('total_locs', IntegerType()), StructField('trip_days',  IntegerType()), \n",
    "            StructField('usage_days',  IntegerType()),\n",
    "            StructField('userid', StringType()), StructField('operator', IntegerType())])"
   ]
  },
  {
   "cell_type": "code",
   "execution_count": 8,
   "metadata": {},
   "outputs": [
    {
     "data": {
      "text/html": [
       "<style scoped>\n",
       "  .ansiout {\n",
       "    display: block;\n",
       "    unicode-bidi: embed;\n",
       "    white-space: pre-wrap;\n",
       "    word-wrap: break-word;\n",
       "    word-break: break-all;\n",
       "    font-family: \"Source Code Pro\", \"Menlo\", monospace;;\n",
       "    font-size: 13px;\n",
       "    color: #555;\n",
       "    margin-left: 4px;\n",
       "    line-height: 19px;\n",
       "  }\n",
       "</style>\n",
       "<div class=\"ansiout\"></div>"
      ]
     },
     "metadata": {},
     "output_type": "display_data"
    }
   ],
   "source": [
    "@pandas_udf(user_att_schema, PandasUDFType.GROUPED_MAP)\n",
    "def process_user_attributes(pdf):\n",
    "    # create user\n",
    "    print(pdf.dtypes)\n",
    "    # dt = misc_processing_params[\"datetime_col\"]\n",
    "    # pdf[\"datetime3\"] = pd.to_datetime(pdf[dt], format=\"%Y-%m-%d %H:%M:%S\", errors='coerce')\n",
    "    user = ut.User(userid=pdf[USER_ID].iloc[0], raw_user_data=pdf)\n",
    "    # misc_processing_params[\"datetime_col\"] = \"datetime3\"\n",
    "    user.misc_params = misc_processing_params\n",
    "    network_operator = 1\n",
    "\n",
    "    # =============================\n",
    "    # Generate user attributes\n",
    "    # =============================\n",
    "    user.generate_trips_by_day()\n",
    "    user.compute_avg_trip_distance()\n",
    "    user.compute_avg_trips_per_day()\n",
    "    user.generate_home_and_work_clusters()\n",
    "    user.set_home_work_from_clusters()\n",
    "\n",
    "    # =============================\n",
    "    # Get user attributes\n",
    "    # =============================\n",
    "\n",
    "    # home and work\n",
    "    home_x, home_y, work_x, work_y = [float(99999) for _ in range(4)]\n",
    "    if user.home:\n",
    "        home_x = float(user.home[0])\n",
    "        home_y = float(user.home[1])\n",
    "    if user.work:\n",
    "        work_x = float(user.work[0])\n",
    "        work_y = float(user.work[1])\n",
    "\n",
    "    # Trips attributes\n",
    "    avg_trp_dist = user.avg_trp_dist\n",
    "    avg_num_trps = user.avg_trps_day\n",
    "\n",
    "    # Location\n",
    "    avg_locs_day = user.average_unique_locs_perday\n",
    "    total_locs = user.total_unique_locations\n",
    "\n",
    "    # Distances\n",
    "    radius_gyration_mean = user.average_farthest_distance\n",
    "    radius_gyration_median = user.median_farthest_distance\n",
    "\n",
    "    # Days with trips\n",
    "    total_number_of_days = user.usage_days\n",
    "    days_with_trips = user.num_of_days_with_trips\n",
    "\n",
    "    # =============================\n",
    "    # Create Dataframe\n",
    "    # =============================\n",
    "    data_pt = {'userid': str(user.userid), 'avg_trp_dist': avg_trp_dist, 'avg_num_trps': avg_num_trps,\n",
    "               'avg_gyration': radius_gyration_mean, 'median_gyration': radius_gyration_median,\n",
    "               'usage_days': total_number_of_days, 'trip_days': days_with_trips,\n",
    "               'avg_locs_day': avg_locs_day, 'total_locs': total_locs, 'home_x': home_x, 'home_y': home_y,\n",
    "               'work_x': work_x, 'work_y': work_y, 'operator': network_operator}\n",
    "    return pd.DataFrame([data_pt])"
   ]
  },
  {
   "cell_type": "code",
   "execution_count": 9,
   "metadata": {},
   "outputs": [
    {
     "data": {
      "text/html": [
       "<style scoped>\n",
       "  .ansiout {\n",
       "    display: block;\n",
       "    unicode-bidi: embed;\n",
       "    white-space: pre-wrap;\n",
       "    word-wrap: break-word;\n",
       "    word-break: break-all;\n",
       "    font-family: \"Source Code Pro\", \"Menlo\", monospace;;\n",
       "    font-size: 13px;\n",
       "    color: #555;\n",
       "    margin-left: 4px;\n",
       "    line-height: 19px;\n",
       "  }\n",
       "</style>\n",
       "<div class=\"ansiout\"></div>"
      ]
     },
     "metadata": {},
     "output_type": "display_data"
    }
   ],
   "source": [
    "def generate_user_attributes( sample = False, sample_size=10000,  user_count_file=None, by_month=False, month=None,\n",
    "                             userid='phonenumber', raw_cdrs=None, min_events=None, max_events=None):\n",
    "    \"\"\"\n",
    "    Generates trip count and trip attributes of users\n",
    "    \"\"\"\n",
    "    # Get good users\n",
    "    df = select_good_user_data(user_counts=user_count_file, raw_folder_data=raw_cdrs, min_num_events=min_events, max_num_events=max_events, \n",
    "                          sample_users=sample, num_users=sample_size)\n",
    "    # Month\n",
    "    if by_month:\n",
    "      dfm = df.filter(df.month == month)\n",
    "      df = dfm\n",
    "    \n",
    "    # Schema for output df\n",
    "    gdf = df.groupBy(userid).apply(process_user_attributes)\n",
    "    \n",
    "    return gdf"
   ]
  },
  {
   "cell_type": "code",
   "execution_count": 10,
   "metadata": {},
   "outputs": [
    {
     "data": {
      "text/html": [
       "<style scoped>\n",
       "  .ansiout {\n",
       "    display: block;\n",
       "    unicode-bidi: embed;\n",
       "    white-space: pre-wrap;\n",
       "    word-wrap: break-word;\n",
       "    word-break: break-all;\n",
       "    font-family: \"Source Code Pro\", \"Menlo\", monospace;;\n",
       "    font-size: 13px;\n",
       "    color: #555;\n",
       "    margin-left: 4px;\n",
       "    line-height: 19px;\n",
       "  }\n",
       "</style>\n",
       "<div class=\"ansiout\"></div>"
      ]
     },
     "metadata": {},
     "output_type": "display_data"
    }
   ],
   "source": [
    "def select_good_user_data(user_counts=None, raw_folder_data=None, min_num_events=150, max_num_events=3000, \n",
    "                          sample_users=False, num_users=1000000):\n",
    "  # rdd raw users\n",
    "  df = read_user_data_as_df(file_or_folder=hashed_data)\n",
    "  df2 =  df.repartition(20)\n",
    " \n",
    "  # user event counts\n",
    "  pdf = pd.read_csv(user_counts)\n",
    "  pdf.phonenumber = pdf.phonenumber.astype(str)\n",
    "  pdf_good = pdf[(pdf[\"count\"] >= min_num_events) & (pdf[\"count\"] < max_num_events)]\n",
    "  print(\"Number of all users: {:,}, but only {:,} good users\".format(pdf.shape[0], pdf_good.shape[0]))\n",
    "  \n",
    "  if sample_users:\n",
    "    pdf_good_sample = pdf_good.sample(n=num_users)\n",
    "    pdf_good = pdf_good_sample\n",
    "  \n",
    "  df_good_users = spark.createDataFrame(pdf_good)\n",
    "  df3 = df2.join(df_good_users, on=\"phonenumber\", how=\"inner\")\n",
    "  \n",
    "  return df3"
   ]
  },
  {
   "cell_type": "code",
   "execution_count": 11,
   "metadata": {},
   "outputs": [
    {
     "data": {
      "text/html": [
       "<style scoped>\n",
       "  .ansiout {\n",
       "    display: block;\n",
       "    unicode-bidi: embed;\n",
       "    white-space: pre-wrap;\n",
       "    word-wrap: break-word;\n",
       "    word-break: break-all;\n",
       "    font-family: \"Source Code Pro\", \"Menlo\", monospace;;\n",
       "    font-size: 13px;\n",
       "    color: #555;\n",
       "    margin-left: 4px;\n",
       "    line-height: 19px;\n",
       "  }\n",
       "</style>\n",
       "<div class=\"ansiout\"></div>"
      ]
     },
     "metadata": {},
     "output_type": "display_data"
    }
   ],
   "source": [
    "def add_admin_boundaries_to_user_home_work(df=None, aggreg_col_id='admin4Pcod', aggreg_col_name='admin4Name',\n",
    "                                           admin_shp_file=None):\n",
    "    \"\"\"\n",
    "\n",
    "    :param df_work:\n",
    "    :param df_home:\n",
    "    :return:\n",
    "    \"\"\"\n",
    "\n",
    "    df_home = ut.add_admin_attributes_to_random_latlon(admin_shp=admin_shp_file, df_with_latlon=df, lon='home_x',\n",
    "                                                       lat='home_y')\n",
    "\n",
    "    df_work = ut.add_admin_attributes_to_random_latlon(admin_shp=admin_shp_file, df_with_latlon=df, lon='work_x',\n",
    "                                                       lat='work_y')\n",
    "    suffix = ['_h', '_w']\n",
    "    df = pd.merge(left=df_home,right=df_work, on='userid', suffixes=suffix, how='inner')\n",
    "\n",
    "    admin_col_names = [aggreg_col_name + suffix[0], aggreg_col_name + suffix[1],\n",
    "                       aggreg_col_id + suffix[0], aggreg_col_id + suffix[1]]\n",
    "    cols_to_keep = ['userid', 'avg_locs_day_h', 'avg_num_trps_h', 'avg_trp_dist_h', 'days_with_trips_h',\n",
    "     'radius_gyration_h', 'radius_gyration_median_h', 'total_locs_h', 'total_number_of_days_h'] + admin_col_names\n",
    "\n",
    "    out_df = df[cols_to_keep]\n",
    "    renamed_cols = {}\n",
    "    for c in out_df.columns[1:]:\n",
    "        if aggreg_col_name == c[:-2] or aggreg_col_id == c[:-2]:\n",
    "            continue\n",
    "        if c == 'userid':\n",
    "            continue\n",
    "        renamed_cols[c] = c[:-2]\n",
    "\n",
    "    out_df.rename(columns=renamed_cols, inplace=True)\n",
    "\n",
    "    return out_df"
   ]
  },
  {
   "cell_type": "code",
   "execution_count": 12,
   "metadata": {},
   "outputs": [
    {
     "data": {
      "text/html": [
       "<style scoped>\n",
       "  .ansiout {\n",
       "    display: block;\n",
       "    unicode-bidi: embed;\n",
       "    white-space: pre-wrap;\n",
       "    word-wrap: break-word;\n",
       "    word-break: break-all;\n",
       "    font-family: \"Source Code Pro\", \"Menlo\", monospace;;\n",
       "    font-size: 13px;\n",
       "    color: #555;\n",
       "    margin-left: 4px;\n",
       "    line-height: 19px;\n",
       "  }\n",
       "</style>\n",
       "<div class=\"ansiout\"></div>"
      ]
     },
     "metadata": {},
     "output_type": "display_data"
    }
   ],
   "source": [
    "def read_user_data_as_df(file_or_folder=None, date_fmt=\"%Y-%m-%d %H:%M:%S\"):\n",
    "    \"\"\"\n",
    "    The min_num_users and max_num_users is based on summary stats and can be adjusted\n",
    "\n",
    "    :param file:\n",
    "    :param has_dates:\n",
    "    :return:\n",
    "    \"\"\"\n",
    "    # read all user data\n",
    "    df = spark.read.csv(path=file_or_folder, header=True)\n",
    "\n",
    "    # Spark UDF to add date and datetime\n",
    "    add_datetime = udf(lambda x: datetime.strptime(x[:-4], date_fmt), TimestampType())\n",
    "    add_date = udf(lambda x: datetime.strptime(x[:-4], date_fmt), DateType())\n",
    "    add_month = udf(lambda x: x.month, IntegerType())\n",
    "\n",
    "    # create timestamp\n",
    "    df2 = df.withColumn('datetime2', add_datetime(col('datetime')))\n",
    "    df3 = df2.withColumn('date', add_date(col('datetime')))\n",
    "    df4 = df3.withColumn('month', add_month(col('datetime2')))\n",
    "    \n",
    "     # change lon and lat columns to numeric\n",
    "    convert_to_numeric = udf(lambda x: float(x), DoubleType())\n",
    "    df5 = df4.withColumn('lon2', convert_to_numeric(col('lon')))\n",
    "    df6 = df5.withColumn('lat2', convert_to_numeric(col('lat')))\n",
    "    df7 = df6.drop(*['lon','lat'])\n",
    "    df8 = (df7\n",
    "             .withColumnRenamed('lon2', 'lon')\n",
    "             .withColumnRenamed('lat2', 'lat'))\n",
    "    \n",
    "    return df8"
   ]
  },
  {
   "cell_type": "code",
   "execution_count": 13,
   "metadata": {},
   "outputs": [
    {
     "data": {
      "text/html": [
       "<style scoped>\n",
       "  .ansiout {\n",
       "    display: block;\n",
       "    unicode-bidi: embed;\n",
       "    white-space: pre-wrap;\n",
       "    word-wrap: break-word;\n",
       "    word-break: break-all;\n",
       "    font-family: \"Source Code Pro\", \"Menlo\", monospace;;\n",
       "    font-size: 13px;\n",
       "    color: #555;\n",
       "    margin-left: 4px;\n",
       "    line-height: 19px;\n",
       "  }\n",
       "</style>\n",
       "<div class=\"ansiout\"></div>"
      ]
     },
     "metadata": {},
     "output_type": "display_data"
    }
   ],
   "source": [
    "def save_user_event_counts(raw_data_folder=None, output=None):\n",
    "  \"\"\"\n",
    "  Generates number of events for each user and saves as CSV\n",
    "  \"\"\"\n",
    "  df = read_user_data_as_df(file_or_folder=raw_data_folder)\n",
    "  df2 = df.repartition(20)\n",
    "  df_users = df2.groupBy(\"phonenumber\").count().toPandas()\n",
    "  \n",
    "  \n",
    "  df_users.to_csv(output, index=False)"
   ]
  },
  {
   "cell_type": "code",
   "execution_count": 14,
   "metadata": {},
   "outputs": [
    {
     "data": {
      "text/html": [
       "<style scoped>\n",
       "  .ansiout {\n",
       "    display: block;\n",
       "    unicode-bidi: embed;\n",
       "    white-space: pre-wrap;\n",
       "    word-wrap: break-word;\n",
       "    word-break: break-all;\n",
       "    font-family: \"Source Code Pro\", \"Menlo\", monospace;;\n",
       "    font-size: 13px;\n",
       "    color: #555;\n",
       "    margin-left: 4px;\n",
       "    line-height: 19px;\n",
       "  }\n",
       "</style>\n",
       "<div class=\"ansiout\"></div>"
      ]
     },
     "metadata": {},
     "output_type": "display_data"
    }
   ],
   "source": [
    "def save_good_user_data(user_counts=None, raw_folder_data=None, out_good_user_data=None, \n",
    "                        min_num_events=150, max_num_events=3000):\n",
    "  # rdd raw users\n",
    "  df = read_user_data_as_df(file_or_folder=hashed_data)\n",
    "  df2 =  df.repartition(20)\n",
    " \n",
    "  # user event counts\n",
    "  pdf = pd.read_csv(user_counts)\n",
    "  pdf.phonenumber = pdf.phonenumber.astype(str)\n",
    "  pdf_good = pdf[(pdf[\"count\"] >= min_num_events) & (pdf[\"count\"] < max_num_events)]\n",
    "  print(\"Number of all users: {:,}, but only {:,} good users\".format(pdf.shape[0], pdf_good.shape[0]))\n",
    "  df_good_users = spark.createDataFrame(pdf_good)\n",
    "  \n",
    "  # Now join\n",
    "  df3 = df2.join(df_good_users, on=\"phonenumber\", how=\"inner\")\n",
    "  df3.write.csv(out_good_user_data, header=True)"
   ]
  },
  {
   "cell_type": "code",
   "execution_count": 15,
   "metadata": {},
   "outputs": [],
   "source": [
    "# good_users = \"/mnt/afr_sub/consistent-users\"\n",
    "# save_good_user_data(user_counts=user_counts, raw_folder_data=hashed_data, out_good_user_data=good_users, \n",
    "#                         min_num_events=150, max_num_events=2400)"
   ]
  },
  {
   "cell_type": "markdown",
   "metadata": {},
   "source": [
    "## Generate User Attributes\n",
    "In this case for the whole dataset"
   ]
  },
  {
   "cell_type": "code",
   "execution_count": 17,
   "metadata": {},
   "outputs": [
    {
     "data": {
      "text/html": [
       "<style scoped>\n",
       "  .ansiout {\n",
       "    display: block;\n",
       "    unicode-bidi: embed;\n",
       "    white-space: pre-wrap;\n",
       "    word-wrap: break-word;\n",
       "    word-break: break-all;\n",
       "    font-family: \"Source Code Pro\", \"Menlo\", monospace;;\n",
       "    font-size: 13px;\n",
       "    color: #555;\n",
       "    margin-left: 4px;\n",
       "    line-height: 19px;\n",
       "  }\n",
       "</style>\n",
       "<div class=\"ansiout\"></div>"
      ]
     },
     "metadata": {},
     "output_type": "display_data"
    }
   ],
   "source": [
    "hashed_data =  \"/mnt/afr_sub/hashed_dataset/\"\n",
    "afr_loc = \"/mnt/sample/africell-loc-with-attributes.csv\"\n",
    "user_counts = \"/dbfs/mnt/afr_sub/user_event_count.csv\"\n",
    "out_att_file = \"/dbfs/mnt/sample/user_attributes_africell_orange.csv\""
   ]
  },
  {
   "cell_type": "code",
   "execution_count": 18,
   "metadata": {},
   "outputs": [
    {
     "data": {
      "text/html": [
       "<style scoped>\n",
       "  .ansiout {\n",
       "    display: block;\n",
       "    unicode-bidi: embed;\n",
       "    white-space: pre-wrap;\n",
       "    word-wrap: break-word;\n",
       "    word-break: break-all;\n",
       "    font-family: \"Source Code Pro\", \"Menlo\", monospace;;\n",
       "    font-size: 13px;\n",
       "    color: #555;\n",
       "    margin-left: 4px;\n",
       "    line-height: 19px;\n",
       "  }\n",
       "</style>\n",
       "<div class=\"ansiout\">Number of all users: 6,624,881, but only 4,482,694 good users\n",
       "</div>"
      ]
     },
     "metadata": {},
     "output_type": "display_data"
    }
   ],
   "source": [
    "dfu = generate_user_attributes(sample=False,  user_count_file=user_counts, userid='phonenumber', raw_cdrs=hashed_data,by_month=False, min_events=6, max_events=5000)"
   ]
  },
  {
   "cell_type": "code",
   "execution_count": 19,
   "metadata": {},
   "outputs": [
    {
     "data": {
      "text/html": [
       "<style scoped>\n",
       "  .ansiout {\n",
       "    display: block;\n",
       "    unicode-bidi: embed;\n",
       "    white-space: pre-wrap;\n",
       "    word-wrap: break-word;\n",
       "    word-break: break-all;\n",
       "    font-family: \"Source Code Pro\", \"Menlo\", monospace;;\n",
       "    font-size: 13px;\n",
       "    color: #555;\n",
       "    margin-left: 4px;\n",
       "    line-height: 19px;\n",
       "  }\n",
       "</style>\n",
       "<div class=\"ansiout\"></div>"
      ]
     },
     "metadata": {},
     "output_type": "display_data"
    }
   ],
   "source": [
    "pdfu = dfu.repartition(20).toPandas()"
   ]
  },
  {
   "cell_type": "code",
   "execution_count": 20,
   "metadata": {},
   "outputs": [
    {
     "data": {
      "text/html": [
       "<style scoped>\n",
       "  .ansiout {\n",
       "    display: block;\n",
       "    unicode-bidi: embed;\n",
       "    white-space: pre-wrap;\n",
       "    word-wrap: break-word;\n",
       "    word-break: break-all;\n",
       "    font-family: \"Source Code Pro\", \"Menlo\", monospace;;\n",
       "    font-size: 13px;\n",
       "    color: #555;\n",
       "    margin-left: 4px;\n",
       "    line-height: 19px;\n",
       "  }\n",
       "</style>\n",
       "<div class=\"ansiout\"></div>"
      ]
     },
     "metadata": {},
     "output_type": "display_data"
    }
   ],
   "source": [
    "# Save to file\n",
    "user_att_afr = \"/dbfs/mnt/sample/user-attributes-afr.csv\"\n",
    "pdfu.to_csv(user_att_afr, index=False)"
   ]
  },
  {
   "cell_type": "code",
   "execution_count": 21,
   "metadata": {},
   "outputs": [],
   "source": []
  }
 ],
 "metadata": {
  "kernelspec": {
   "display_name": "Python 3",
   "language": "python",
   "name": "python3"
  },
  "language_info": {
   "codemirror_mode": {
    "name": "ipython",
    "version": 3
   },
   "file_extension": ".py",
   "mimetype": "text/x-python",
   "name": "python",
   "nbconvert_exporter": "python",
   "pygments_lexer": "ipython3",
   "version": "3.6.5"
  },
  "name": "user_attributes_afr",
  "notebookId": 3115314103380396,
  "toc": {
   "base_numbering": "1",
   "nav_menu": {},
   "number_sections": true,
   "sideBar": true,
   "skip_h1_title": false,
   "title_cell": "Table of Contents",
   "title_sidebar": "Contents",
   "toc_cell": false,
   "toc_position": {},
   "toc_section_display": true,
   "toc_window_display": false
  }
 },
 "nbformat": 4,
 "nbformat_minor": 1
}
